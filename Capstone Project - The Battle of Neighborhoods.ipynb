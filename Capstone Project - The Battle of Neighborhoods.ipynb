{
 "cells": [
  {
   "cell_type": "markdown",
   "metadata": {},
   "source": [
    "# Capstone Project - The Battle of Neighborhoods (Week 1)"
   ]
  },
  {
   "cell_type": "markdown",
   "metadata": {},
   "source": [
    "Let's Start"
   ]
  },
  {
   "cell_type": "markdown",
   "metadata": {},
   "source": [
    "# Problem Statement"
   ]
  },
  {
   "cell_type": "markdown",
   "metadata": {},
   "source": [
    "A prospective business owner wants to start his new business by developing both online and physical distribution for high-end products. The owner desires to know where he should starts his business in a city that has been not been fully developed or ignored. This would allow to minimise the risk, generate revenu rapidely and develop faster. He also want to know where he should look within a city to install his shop based on previous data and evaluate, if possible, trends.\n",
    "\n",
    "Here we will take Herbs and Spices as an example - because it is expected to only have few per cities - so that we can pull more data across Europe using FourSquare.\n",
    "\n"
   ]
  },
  {
   "cell_type": "markdown",
   "metadata": {},
   "source": [
    "# Data Gathering"
   ]
  },
  {
   "cell_type": "markdown",
   "metadata": {},
   "source": [
    "Data Gathering\n",
    "1. Need to collect cities across Europe with a large population\n",
    "2. For all of the cities; get all possible information, inhabitant, median income, density the population in the city, etc.\n",
    "3. Find the locations for the shop in the category for the list of city.\n",
    "4. Evaluate the data retrieve from FourSquare and respond to the question by establishing a country/city where it would make most sense. Or propose few cities that seemed appropriate.\n",
    "\n",
    "We are making the assumptions (which will need to be tested)\n",
    "0. We are making the assumptions that the data available mark 'successful' businesses.\n",
    "1. That the larger cities are already saturated and will be used as a basis to evaluate the target values.\n",
    "2. That for that specific product/category there is no variations across countries (no regionality).\n",
    "3. That large cities present similar densities has smaller cities -> mostly linked to the number of inhabitants, although other factors would need to be established (as required, such as income or else).\n",
    "\n",
    "Unknown:\n",
    "1. Is the clientele for such products only local (and what is local)? -> (need to establish buying power around the location - if we see something odd in the distribution)\n",
    "2. Are those independant shops or part of larger groups - this may influence startegy?\n",
    "3. Are these category of shops established within a larger network (for example a place for coworking as few coffees shop around) that attract most of the clientele ?\n",
    "3. How much of an online presence do they have? \n",
    "4. How specialised are those companies -> only selling one category or multiple category (backery with tee salon) ?\n",
    "\n",
    "Where should it look for a shop?\n",
    "1. Look at similar shops (categories) in few cities across Europe to establish link and establish density of such shop in a city.\n",
    "2. Establish trends/pattern based on the data gathered.\n",
    "3. Evaluate where it would make more sense to implant a new shop"
   ]
  },
  {
   "cell_type": "markdown",
   "metadata": {},
   "source": [
    "# Methodology"
   ]
  },
  {
   "cell_type": "markdown",
   "metadata": {},
   "source": [
    "Methodology section which represents the main component of the report where you discuss and describe any exploratory data analysis that you did, any inferential statistical testing that you performed, if any, and what machine learnings were used and why."
   ]
  },
  {
   "cell_type": "markdown",
   "metadata": {},
   "source": [
    "# Results"
   ]
  },
  {
   "cell_type": "markdown",
   "metadata": {},
   "source": [
    "Results section where you discuss the results."
   ]
  },
  {
   "cell_type": "markdown",
   "metadata": {},
   "source": [
    "# Discussion"
   ]
  },
  {
   "cell_type": "markdown",
   "metadata": {},
   "source": [
    "Discussion section where you discuss any observations you noted and any recommendations you can make based on the results."
   ]
  },
  {
   "cell_type": "markdown",
   "metadata": {},
   "source": [
    "# Conclusions"
   ]
  },
  {
   "cell_type": "markdown",
   "metadata": {},
   "source": [
    "Conclusion section where you conclude the report."
   ]
  },
  {
   "cell_type": "code",
   "execution_count": null,
   "metadata": {},
   "outputs": [],
   "source": []
  }
 ],
 "metadata": {
  "kernelspec": {
   "display_name": "Python 3",
   "language": "python",
   "name": "python3"
  },
  "language_info": {
   "codemirror_mode": {
    "name": "ipython",
    "version": 3
   },
   "file_extension": ".py",
   "mimetype": "text/x-python",
   "name": "python",
   "nbconvert_exporter": "python",
   "pygments_lexer": "ipython3",
   "version": "3.7.6"
  }
 },
 "nbformat": 4,
 "nbformat_minor": 4
}
